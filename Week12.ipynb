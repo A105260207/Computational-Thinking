{
  "nbformat": 4,
  "nbformat_minor": 0,
  "metadata": {
    "colab": {
      "name": "Week12.ipynb",
      "provenance": [],
      "collapsed_sections": [],
      "authorship_tag": "ABX9TyOZC54kIpj6hXPPKg4PQClk",
      "include_colab_link": true
    },
    "kernelspec": {
      "name": "python3",
      "display_name": "Python 3"
    }
  },
  "cells": [
    {
      "cell_type": "markdown",
      "metadata": {
        "id": "view-in-github",
        "colab_type": "text"
      },
      "source": [
        "<a href=\"https://colab.research.google.com/github/A105260207/Computational-Thinking/blob/main/Week12.ipynb\" target=\"_parent\"><img src=\"https://colab.research.google.com/assets/colab-badge.svg\" alt=\"Open In Colab\"/></a>"
      ]
    },
    {
      "cell_type": "code",
      "metadata": {
        "colab": {
          "base_uri": "https://localhost:8080/"
        },
        "id": "WIbW9wyIn3Fy",
        "outputId": "a2e034c4-90ec-43af-9c02-94d1f6f50f2b"
      },
      "source": [
        "hello1 = 'Hello World'\n",
        "hello2 = 'Hello Python'\n",
        "hello3 = 'Shaquile O`Neil'\n",
        "\n",
        "s1 = \"123\"\n",
        "s2 = \"456\"\n",
        "s3 = s1 + s2\n",
        "print(s3)\n",
        "s4 = s1*2\n",
        "print(s4)\n",
        "\n",
        "\n",
        "\n"
      ],
      "execution_count": null,
      "outputs": [
        {
          "output_type": "stream",
          "text": [
            "123456\n",
            "123123\n"
          ],
          "name": "stdout"
        }
      ]
    },
    {
      "cell_type": "code",
      "metadata": {
        "colab": {
          "base_uri": "https://localhost:8080/",
          "height": 35
        },
        "id": "pwBX5jZCtMeC",
        "outputId": "9cba68fc-f0e3-4117-c46b-3233c13213b2"
      },
      "source": [
        "s1 = 'An apple a day.'\n",
        "s1.capitalize()\n",
        "s1.title()\n",
        "s1.swapcase()\n",
        "s1.upper()\n",
        "s1.lower()"
      ],
      "execution_count": null,
      "outputs": [
        {
          "output_type": "execute_result",
          "data": {
            "application/vnd.google.colaboratory.intrinsic+json": {
              "type": "string"
            },
            "text/plain": [
              "'an apple a day.'"
            ]
          },
          "metadata": {
            "tags": []
          },
          "execution_count": 11
        }
      ]
    },
    {
      "cell_type": "code",
      "metadata": {
        "id": "e5d5PAyItQpf"
      },
      "source": [
        "numberlist = [1,2,3,4,5]\n",
        "charlist = [\"1\",\"2\",\"3\",\"4\",\"5\"]\n",
        "mixlist = [1,\"2\",3,\"4\",5]\n"
      ],
      "execution_count": null,
      "outputs": []
    },
    {
      "cell_type": "code",
      "metadata": {
        "colab": {
          "base_uri": "https://localhost:8080/"
        },
        "id": "5vEL8VbZvG6C",
        "outputId": "745bcd65-8d99-4543-96dd-ba18729cdc65"
      },
      "source": [
        "word = \"Kevin\"\n",
        "print(word)\n",
        "\n",
        "list1 = list(word)\n",
        "print(word)\n",
        "\n"
      ],
      "execution_count": null,
      "outputs": [
        {
          "output_type": "stream",
          "text": [
            "Kevin\n"
          ],
          "name": "stdout"
        }
      ]
    },
    {
      "cell_type": "markdown",
      "metadata": {
        "id": "tBlmN-fDyAVj"
      },
      "source": [
        "# 隨堂練習1"
      ]
    },
    {
      "cell_type": "code",
      "metadata": {
        "colab": {
          "base_uri": "https://localhost:8080/"
        },
        "id": "C6ECnx2HweEl",
        "outputId": "9c700d29-d2f2-41a8-e3e9-a615c8e9bb94"
      },
      "source": [
        "favorite_list =[885,\"coffee\",\"football\",\"black\",\"tea\"]\n",
        "print(favorite_list)"
      ],
      "execution_count": 2,
      "outputs": [
        {
          "output_type": "stream",
          "text": [
            "[885, 'coffee', 'football', 'black', 'tea']\n"
          ],
          "name": "stdout"
        }
      ]
    },
    {
      "cell_type": "markdown",
      "metadata": {
        "id": "a-L7K2Wi2Aa9"
      },
      "source": [
        "# 隨堂練習2"
      ]
    },
    {
      "cell_type": "code",
      "metadata": {
        "colab": {
          "base_uri": "https://localhost:8080/"
        },
        "id": "n-MaqHkO2HUk",
        "outputId": "f11d36d5-06be-4d9d-81ef-6cbdc710d6de"
      },
      "source": [
        "season = \"2016-2017\"\n",
        "team = \"Boston\"\n",
        "coach = \"Phil Jackson\"\n",
        "records = [62,9]\n",
        "starting_lineup =[\"LeBron James\",\"Anthony Davis\",\"Alex Caruso\",\"Kyle Kuzma\",\"Markieff Morris\"]\n",
        "won_championship= True\n",
        "\n",
        "best_Boston = list ((season,team,coach,records,starting_lineup,won_championship))\n",
        "print(best_Boston)\n",
        "print(type(best_Boston))"
      ],
      "execution_count": 4,
      "outputs": [
        {
          "output_type": "stream",
          "text": [
            "['2016-2017', 'Boston', 'Phil Jackson', [62, 9], ['LeBron James', 'Anthony Davis', 'Alex Caruso', 'Kyle Kuzma', 'Markieff Morris'], True]\n",
            "<class 'list'>\n"
          ],
          "name": "stdout"
        }
      ]
    }
  ]
}