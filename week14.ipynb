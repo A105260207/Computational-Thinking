{
  "nbformat": 4,
  "nbformat_minor": 0,
  "metadata": {
    "colab": {
      "name": "week14.ipynb",
      "provenance": [],
      "authorship_tag": "ABX9TyMfUCP0goDTPGtr2vGiCOyQ",
      "include_colab_link": true
    },
    "kernelspec": {
      "name": "python3",
      "display_name": "Python 3"
    }
  },
  "cells": [
    {
      "cell_type": "markdown",
      "metadata": {
        "id": "view-in-github",
        "colab_type": "text"
      },
      "source": [
        "<a href=\"https://colab.research.google.com/github/A105260207/Computational-Thinking/blob/main/week14.ipynb\" target=\"_parent\"><img src=\"https://colab.research.google.com/assets/colab-badge.svg\" alt=\"Open In Colab\"/></a>"
      ]
    },
    {
      "cell_type": "code",
      "metadata": {
        "colab": {
          "base_uri": "https://localhost:8080/"
        },
        "id": "804CIBRtG8Wg",
        "outputId": "b1afd6d1-5826-460c-f916-985413560b53"
      },
      "source": [
        ">>> sum = 0 \r\n",
        ">>> for i in range(2, 10, 2): \r\n",
        ">>>     sum = sum + i \r\n",
        ">>>     print('i為', i, '時,累加結果為', sum)"
      ],
      "execution_count": 2,
      "outputs": [
        {
          "output_type": "stream",
          "text": [
            "i為 2 時,累加結果為 2\n",
            "i為 4 時,累加結果為 6\n",
            "i為 6 時,累加結果為 12\n",
            "i為 8 時,累加結果為 20\n"
          ],
          "name": "stdout"
        }
      ]
    },
    {
      "cell_type": "code",
      "metadata": {
        "colab": {
          "base_uri": "https://localhost:8080/"
        },
        "id": "ot8uJ0CYHN2w",
        "outputId": "9108719a-fa8a-45ac-a8c6-d150b7eb714b"
      },
      "source": [
        ">>> sum = 0 \r\n",
        ">>> for n in range(0, 5, 1): \r\n",
        ">>>     sum = sum + n**2 \r\n",
        ">>>     print('n為', n, '時,累加結果為', sum)"
      ],
      "execution_count": 4,
      "outputs": [
        {
          "output_type": "stream",
          "text": [
            "n為 0 時,累加結果為 0\n",
            "n為 1 時,累加結果為 1\n",
            "n為 2 時,累加結果為 5\n",
            "n為 3 時,累加結果為 14\n",
            "n為 4 時,累加結果為 30\n"
          ],
          "name": "stdout"
        }
      ]
    },
    {
      "cell_type": "code",
      "metadata": {
        "colab": {
          "base_uri": "https://localhost:8080/"
        },
        "id": "gO5g34zpHSQ1",
        "outputId": "b0f5a19c-8950-4bdc-f36f-9927912f8808"
      },
      "source": [
        "people = [\"Ian\"]\r\n",
        "desserts = [\"pie\"]\r\n",
        " \r\n",
        "for index in range(len(people)):\r\n",
        "   name = people\r\n",
        "   dessert = desserts\r\n",
        "   print(f\"Hi! My name is {name}, My favorite dessert is {desserts}\")"
      ],
      "execution_count": 6,
      "outputs": [
        {
          "output_type": "stream",
          "text": [
            "Hi! My name is ['Ian'], My favorite dessert is ['pie']\n"
          ],
          "name": "stdout"
        }
      ]
    },
    {
      "cell_type": "code",
      "metadata": {
        "colab": {
          "base_uri": "https://localhost:8080/"
        },
        "id": "oLU3x5E9Hjcj",
        "outputId": "6e18a8dc-119b-43ca-f27a-ee891b05786d"
      },
      "source": [
        ">>> sum = 0 \r\n",
        ">>> for i in range(3, 13, 3): \r\n",
        ">>>     sum = sum + i \r\n",
        ">>>     print('i為', i, '時,累加結果為', sum)"
      ],
      "execution_count": 8,
      "outputs": [
        {
          "output_type": "stream",
          "text": [
            "i為 3 時,累加結果為 3\n",
            "i為 6 時,累加結果為 9\n",
            "i為 9 時,累加結果為 18\n",
            "i為 12 時,累加結果為 30\n"
          ],
          "name": "stdout"
        }
      ]
    }
  ]
}