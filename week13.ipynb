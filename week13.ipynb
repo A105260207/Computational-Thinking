{
  "nbformat": 4,
  "nbformat_minor": 0,
  "metadata": {
    "colab": {
      "name": "week13.ipynb",
      "provenance": [],
      "authorship_tag": "ABX9TyM70qN29Yd/QnV1w9FUhVE5",
      "include_colab_link": true
    },
    "kernelspec": {
      "name": "python3",
      "display_name": "Python 3"
    }
  },
  "cells": [
    {
      "cell_type": "markdown",
      "metadata": {
        "id": "view-in-github",
        "colab_type": "text"
      },
      "source": [
        "<a href=\"https://colab.research.google.com/github/A105260207/Computational-Thinking/blob/main/week13.ipynb\" target=\"_parent\"><img src=\"https://colab.research.google.com/assets/colab-badge.svg\" alt=\"Open In Colab\"/></a>"
      ]
    },
    {
      "cell_type": "code",
      "metadata": {
        "colab": {
          "base_uri": "https://localhost:8080/"
        },
        "id": "f5nYE7DIDWBV",
        "outputId": "ece15e25-8b04-4787-c83a-165049065f6c"
      },
      "source": [
        "#[0,1,2,3,4,5,6,7,8,9]\r\n",
        ">>> a = range(10) # range(0,10,1)\r\n",
        ">>> print(a)\r\n",
        "range(0,10)\r\n",
        ">>> print(a[0], a[1], a[2], a[3], a[4], a[5], a[6], a[7], a[8], a[9]\r\n",
        "          )\r\n"
      ],
      "execution_count": 1,
      "outputs": [
        {
          "output_type": "stream",
          "text": [
            "range(0, 10)\n",
            "0 1 2 3 4 5 6 7 8 9\n"
          ],
          "name": "stdout"
        }
      ]
    },
    {
      "cell_type": "code",
      "metadata": {
        "colab": {
          "base_uri": "https://localhost:8080/"
        },
        "id": "ExvFbf86FuRn",
        "outputId": "cb292def-1917-4f25-eabd-d10d1a001615"
      },
      "source": [
        "# [0,2,4,6,8]\r\n",
        ">>> b = range(0,10,2) \r\n",
        ">>> print(b)\r\n",
        "\r\n",
        "\r\n",
        ">>> print(b[0], b[1], b[2], b[3], b[4])"
      ],
      "execution_count": 4,
      "outputs": [
        {
          "output_type": "stream",
          "text": [
            "range(0, 10, 2)\n",
            "0 2 4 6 8\n"
          ],
          "name": "stdout"
        }
      ]
    },
    {
      "cell_type": "code",
      "metadata": {
        "colab": {
          "base_uri": "https://localhost:8080/"
        },
        "id": "7f96p6TuGUzK",
        "outputId": "05a2aeea-c72e-41e2-e62a-847fcae3b29a"
      },
      "source": [
        "#[5,7,9]\r\n",
        ">>> c = range(5, 11, 2)\r\n",
        ">>> print(c[0], c[1], c[2])"
      ],
      "execution_count": 6,
      "outputs": [
        {
          "output_type": "stream",
          "text": [
            "5 7 9\n"
          ],
          "name": "stdout"
        }
      ]
    },
    {
      "cell_type": "code",
      "metadata": {
        "colab": {
          "base_uri": "https://localhost:8080/"
        },
        "id": "qyla3O2WGc2H",
        "outputId": "353a19bd-1a7d-43ea-d2d2-3f1edea4baff"
      },
      "source": [
        "# [0, -1, -2, -3, -4, -5, -6, -7, -8, -9]\r\n",
        ">>> d = range(0, -10, -1)\r\n",
        ">>> print(d[0], d[1], d[2], d[3] , d[4] ,d[5], d[6], d[7], d[8],d[9])"
      ],
      "execution_count": 7,
      "outputs": [
        {
          "output_type": "stream",
          "text": [
            "0 -1 -2 -3 -4 -5 -6 -7 -8 -9\n"
          ],
          "name": "stdout"
        }
      ]
    },
    {
      "cell_type": "code",
      "metadata": {
        "colab": {
          "base_uri": "https://localhost:8080/"
        },
        "id": "JVivNGtzGiiD",
        "outputId": "6ca04519-f7f0-4eb2-d87d-fe620b994bfe"
      },
      "source": [
        "print(d[0])\r\n",
        "print(d[1])\r\n",
        "print(d[2])\r\n",
        "print(d[3])\r\n",
        "print(d[4])\r\n",
        "print(d[5])\r\n",
        "print(d[6])\r\n",
        "print(d[7])\r\n",
        "print(d[8])\r\n",
        "print(d[9])"
      ],
      "execution_count": 8,
      "outputs": [
        {
          "output_type": "stream",
          "text": [
            "0\n",
            "-1\n",
            "-2\n",
            "-3\n",
            "-4\n",
            "-5\n",
            "-6\n",
            "-7\n",
            "-8\n",
            "-9\n"
          ],
          "name": "stdout"
        }
      ]
    },
    {
      "cell_type": "code",
      "metadata": {
        "colab": {
          "base_uri": "https://localhost:8080/"
        },
        "id": "VTC6OPRmGnBh",
        "outputId": "a89e5c90-7db4-482f-cbee-a08dda103919"
      },
      "source": [
        "project_title=\"簡易計算機\"\r\n",
        "name_list=\"林龍億,王心如,黃奕昕,吳泓毅,呂欣恩\"\r\n",
        "group_leader=\"呂欣恩\"\r\n",
        "number_list=['A109260102','A109260076','A105260027','A107260029','A106070272']\r\n",
        "duty_list=['文書整理','主題構思','主題構思','程式設計','程式設計']\r\n",
        "load_list=['20%','20%','20%','20%','20%']\r\n",
        "print(group_leader,number_list[4],duty_list[4],load_list[4])"
      ],
      "execution_count": 9,
      "outputs": [
        {
          "output_type": "stream",
          "text": [
            "呂欣恩 A106070272 程式設計 20%\n"
          ],
          "name": "stdout"
        }
      ]
    }
  ]
}